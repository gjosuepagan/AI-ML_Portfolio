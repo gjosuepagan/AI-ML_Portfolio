{
 "cells": [
  {
   "attachments": {},
   "cell_type": "markdown",
   "metadata": {},
   "source": [
    "import numpy as pd"
   ]
  },
  {
   "cell_type": "code",
   "execution_count": 3,
   "metadata": {},
   "outputs": [],
   "source": [
    "# To enable plotting graphs in Jupyter notebook\n",
    "%matplotlib inline "
   ]
  },
  {
   "cell_type": "code",
   "execution_count": 4,
   "metadata": {},
   "outputs": [],
   "source": [
    "# to work with dataframes\n",
    "import pandas as pd\n",
    "import numpy as np\n",
    "\n",
    "# to split data into train and test\n",
    "from sklearn.model_selection import train_test_split\n",
    "\n",
    "# to build logstic regression model\n",
    "from sklearn.linear_model import LogisticRegression\n",
    "from sklearn.linear_model import LinearRegression\n",
    "\n",
    "# to create k folds of data and get cross validation score\n",
    "from sklearn.model_selection import KFold\n",
    "from sklearn.model_selection import cross_val_score\n",
    "from sklearn.linear_model import Ridge\n",
    "from sklearn.linear_model import Lasso\n",
    "\n",
    "from sklearn import metrics\n",
    "from sklearn.metrics import r2_score\n",
    "\n",
    "# to ignore warnings\n",
    "import warnings\n",
    "warnings.filterwarnings('ignore')"
   ]
  },
  {
   "cell_type": "code",
   "execution_count": 5,
   "metadata": {},
   "outputs": [
    {
     "data": {
      "text/html": [
       "<div>\n",
       "<style scoped>\n",
       "    .dataframe tbody tr th:only-of-type {\n",
       "        vertical-align: middle;\n",
       "    }\n",
       "\n",
       "    .dataframe tbody tr th {\n",
       "        vertical-align: top;\n",
       "    }\n",
       "\n",
       "    .dataframe thead th {\n",
       "        text-align: right;\n",
       "    }\n",
       "</style>\n",
       "<table border=\"1\" class=\"dataframe\">\n",
       "  <thead>\n",
       "    <tr style=\"text-align: right;\">\n",
       "      <th></th>\n",
       "      <th>Gender</th>\n",
       "      <th>Chain_smoker</th>\n",
       "      <th>Consumes_other_tobacco_products</th>\n",
       "      <th>HighBP</th>\n",
       "      <th>Obese</th>\n",
       "      <th>Diabetes</th>\n",
       "      <th>Metabolic_syndrome</th>\n",
       "      <th>Use_of_stimulant_drugs</th>\n",
       "      <th>Family_history</th>\n",
       "      <th>History_of_preeclampsia</th>\n",
       "      <th>CABG_history</th>\n",
       "      <th>Respiratory_illness</th>\n",
       "      <th>UnderRisk</th>\n",
       "    </tr>\n",
       "  </thead>\n",
       "  <tbody>\n",
       "    <tr>\n",
       "      <th>0</th>\n",
       "      <td>Male</td>\n",
       "      <td>1</td>\n",
       "      <td>1</td>\n",
       "      <td>0</td>\n",
       "      <td>1</td>\n",
       "      <td>0</td>\n",
       "      <td>0</td>\n",
       "      <td>0</td>\n",
       "      <td>1</td>\n",
       "      <td>0</td>\n",
       "      <td>0</td>\n",
       "      <td>0</td>\n",
       "      <td>no</td>\n",
       "    </tr>\n",
       "    <tr>\n",
       "      <th>1</th>\n",
       "      <td>Male</td>\n",
       "      <td>0</td>\n",
       "      <td>1</td>\n",
       "      <td>0</td>\n",
       "      <td>1</td>\n",
       "      <td>0</td>\n",
       "      <td>0</td>\n",
       "      <td>0</td>\n",
       "      <td>1</td>\n",
       "      <td>0</td>\n",
       "      <td>0</td>\n",
       "      <td>0</td>\n",
       "      <td>no</td>\n",
       "    </tr>\n",
       "    <tr>\n",
       "      <th>2</th>\n",
       "      <td>Male</td>\n",
       "      <td>0</td>\n",
       "      <td>1</td>\n",
       "      <td>0</td>\n",
       "      <td>1</td>\n",
       "      <td>0</td>\n",
       "      <td>0</td>\n",
       "      <td>0</td>\n",
       "      <td>1</td>\n",
       "      <td>0</td>\n",
       "      <td>0</td>\n",
       "      <td>0</td>\n",
       "      <td>no</td>\n",
       "    </tr>\n",
       "    <tr>\n",
       "      <th>3</th>\n",
       "      <td>Male</td>\n",
       "      <td>0</td>\n",
       "      <td>1</td>\n",
       "      <td>0</td>\n",
       "      <td>1</td>\n",
       "      <td>0</td>\n",
       "      <td>0</td>\n",
       "      <td>0</td>\n",
       "      <td>1</td>\n",
       "      <td>0</td>\n",
       "      <td>0</td>\n",
       "      <td>0</td>\n",
       "      <td>no</td>\n",
       "    </tr>\n",
       "    <tr>\n",
       "      <th>4</th>\n",
       "      <td>Male</td>\n",
       "      <td>0</td>\n",
       "      <td>0</td>\n",
       "      <td>0</td>\n",
       "      <td>0</td>\n",
       "      <td>0</td>\n",
       "      <td>1</td>\n",
       "      <td>1</td>\n",
       "      <td>0</td>\n",
       "      <td>0</td>\n",
       "      <td>0</td>\n",
       "      <td>0</td>\n",
       "      <td>no</td>\n",
       "    </tr>\n",
       "  </tbody>\n",
       "</table>\n",
       "</div>"
      ],
      "text/plain": [
       "  Gender  Chain_smoker  Consumes_other_tobacco_products  HighBP  Obese  \\\n",
       "0   Male             1                                1       0      1   \n",
       "1   Male             0                                1       0      1   \n",
       "2   Male             0                                1       0      1   \n",
       "3   Male             0                                1       0      1   \n",
       "4   Male             0                                0       0      0   \n",
       "\n",
       "   Diabetes  Metabolic_syndrome  Use_of_stimulant_drugs  Family_history  \\\n",
       "0         0                   0                       0               1   \n",
       "1         0                   0                       0               1   \n",
       "2         0                   0                       0               1   \n",
       "3         0                   0                       0               1   \n",
       "4         0                   1                       1               0   \n",
       "\n",
       "   History_of_preeclampsia  CABG_history  Respiratory_illness UnderRisk  \n",
       "0                        0             0                    0        no  \n",
       "1                        0             0                    0        no  \n",
       "2                        0             0                    0        no  \n",
       "3                        0             0                    0        no  \n",
       "4                        0             0                    0        no  "
      ]
     },
     "execution_count": 5,
     "metadata": {},
     "output_type": "execute_result"
    }
   ],
   "source": [
    "data = pd.read_csv('./Cardiac.csv')\n",
    "data.head()"
   ]
  },
  {
   "cell_type": "code",
   "execution_count": 6,
   "metadata": {},
   "outputs": [
    {
     "name": "stdout",
     "output_type": "stream",
     "text": [
      "<class 'pandas.core.frame.DataFrame'>\n",
      "RangeIndex: 889 entries, 0 to 888\n",
      "Data columns (total 13 columns):\n",
      " #   Column                           Non-Null Count  Dtype \n",
      "---  ------                           --------------  ----- \n",
      " 0   Gender                           889 non-null    object\n",
      " 1   Chain_smoker                     889 non-null    int64 \n",
      " 2   Consumes_other_tobacco_products  889 non-null    int64 \n",
      " 3   HighBP                           889 non-null    int64 \n",
      " 4   Obese                            889 non-null    int64 \n",
      " 5   Diabetes                         889 non-null    int64 \n",
      " 6   Metabolic_syndrome               889 non-null    int64 \n",
      " 7   Use_of_stimulant_drugs           889 non-null    int64 \n",
      " 8   Family_history                   889 non-null    int64 \n",
      " 9   History_of_preeclampsia          889 non-null    int64 \n",
      " 10  CABG_history                     889 non-null    int64 \n",
      " 11  Respiratory_illness              889 non-null    int64 \n",
      " 12  UnderRisk                        889 non-null    object\n",
      "dtypes: int64(11), object(2)\n",
      "memory usage: 90.4+ KB\n"
     ]
    }
   ],
   "source": [
    "data.info()"
   ]
  },
  {
   "cell_type": "code",
   "execution_count": 7,
   "metadata": {},
   "outputs": [
    {
     "data": {
      "text/plain": [
       "[Male      607\n",
       " Female    256\n",
       " Other      26\n",
       " Name: Gender, dtype: int64,\n",
       " 0    782\n",
       " 1    107\n",
       " Name: Chain_smoker, dtype: int64,\n",
       " 1    745\n",
       " 0    144\n",
       " Name: Consumes_other_tobacco_products, dtype: int64,\n",
       " 0    812\n",
       " 1     77\n",
       " Name: HighBP, dtype: int64,\n",
       " 1    817\n",
       " 0     72\n",
       " Name: Obese, dtype: int64,\n",
       " 0    840\n",
       " 1     49\n",
       " Name: Diabetes, dtype: int64,\n",
       " 0    851\n",
       " 1     38\n",
       " Name: Metabolic_syndrome, dtype: int64,\n",
       " 0    816\n",
       " 1     73\n",
       " Name: Use_of_stimulant_drugs, dtype: int64,\n",
       " 1    823\n",
       " 0     66\n",
       " Name: Family_history, dtype: int64,\n",
       " 0    873\n",
       " 1     16\n",
       " Name: History_of_preeclampsia, dtype: int64,\n",
       " 0    870\n",
       " 1     19\n",
       " Name: CABG_history, dtype: int64,\n",
       " 0    860\n",
       " 1     29\n",
       " Name: Respiratory_illness, dtype: int64,\n",
       " no     699\n",
       " yes    190\n",
       " Name: UnderRisk, dtype: int64]"
      ]
     },
     "execution_count": 7,
     "metadata": {},
     "output_type": "execute_result"
    }
   ],
   "source": [
    "[data[x].value_counts() for x in data.columns]"
   ]
  },
  {
   "cell_type": "code",
   "execution_count": 8,
   "metadata": {},
   "outputs": [
    {
     "data": {
      "text/plain": [
       "0    699\n",
       "1    190\n",
       "Name: UnderRisk, dtype: int64"
      ]
     },
     "execution_count": 8,
     "metadata": {},
     "output_type": "execute_result"
    }
   ],
   "source": [
    "data['UnderRisk'] = data['UnderRisk'].replace({'no':0,'yes':1})\n",
    "data['UnderRisk'].value_counts()"
   ]
  },
  {
   "cell_type": "code",
   "execution_count": 9,
   "metadata": {},
   "outputs": [
    {
     "name": "stdout",
     "output_type": "stream",
     "text": [
      "<class 'pandas.core.frame.DataFrame'>\n",
      "RangeIndex: 889 entries, 0 to 888\n",
      "Data columns (total 13 columns):\n",
      " #   Column                           Non-Null Count  Dtype \n",
      "---  ------                           --------------  ----- \n",
      " 0   Gender                           889 non-null    object\n",
      " 1   Chain_smoker                     889 non-null    int64 \n",
      " 2   Consumes_other_tobacco_products  889 non-null    int64 \n",
      " 3   HighBP                           889 non-null    int64 \n",
      " 4   Obese                            889 non-null    int64 \n",
      " 5   Diabetes                         889 non-null    int64 \n",
      " 6   Metabolic_syndrome               889 non-null    int64 \n",
      " 7   Use_of_stimulant_drugs           889 non-null    int64 \n",
      " 8   Family_history                   889 non-null    int64 \n",
      " 9   History_of_preeclampsia          889 non-null    int64 \n",
      " 10  CABG_history                     889 non-null    int64 \n",
      " 11  Respiratory_illness              889 non-null    int64 \n",
      " 12  UnderRisk                        889 non-null    int64 \n",
      "dtypes: int64(12), object(1)\n",
      "memory usage: 90.4+ KB\n"
     ]
    }
   ],
   "source": [
    "data.info()"
   ]
  },
  {
   "cell_type": "code",
   "execution_count": 10,
   "metadata": {},
   "outputs": [
    {
     "name": "stdout",
     "output_type": "stream",
     "text": [
      "<class 'pandas.core.frame.DataFrame'>\n",
      "RangeIndex: 889 entries, 0 to 888\n",
      "Data columns (total 14 columns):\n",
      " #   Column                           Non-Null Count  Dtype\n",
      "---  ------                           --------------  -----\n",
      " 0   Chain_smoker                     889 non-null    int64\n",
      " 1   Consumes_other_tobacco_products  889 non-null    int64\n",
      " 2   HighBP                           889 non-null    int64\n",
      " 3   Obese                            889 non-null    int64\n",
      " 4   Diabetes                         889 non-null    int64\n",
      " 5   Metabolic_syndrome               889 non-null    int64\n",
      " 6   Use_of_stimulant_drugs           889 non-null    int64\n",
      " 7   Family_history                   889 non-null    int64\n",
      " 8   History_of_preeclampsia          889 non-null    int64\n",
      " 9   CABG_history                     889 non-null    int64\n",
      " 10  Respiratory_illness              889 non-null    int64\n",
      " 11  UnderRisk                        889 non-null    int64\n",
      " 12  Gender_Male                      889 non-null    uint8\n",
      " 13  Gender_Other                     889 non-null    uint8\n",
      "dtypes: int64(12), uint8(2)\n",
      "memory usage: 85.2 KB\n"
     ]
    }
   ],
   "source": [
    "modeling_data = pd.get_dummies(data,drop_first=True)\n",
    "modeling_data.info()"
   ]
  },
  {
   "cell_type": "code",
   "execution_count": 11,
   "metadata": {},
   "outputs": [
    {
     "data": {
      "text/plain": [
       "0    0.786217\n",
       "1    0.213783\n",
       "Name: UnderRisk, dtype: float64"
      ]
     },
     "metadata": {},
     "output_type": "display_data"
    },
    {
     "data": {
      "text/plain": [
       "0    0.786517\n",
       "1    0.213483\n",
       "Name: UnderRisk, dtype: float64"
      ]
     },
     "metadata": {},
     "output_type": "display_data"
    }
   ],
   "source": [
    "X = data.drop(columns='UnderRisk')\n",
    "Y = data['UnderRisk']\n",
    "\n",
    "X_temp, X_test, Y_temp, Y_test = train_test_split(X,Y,test_size=0.2,random_state=1,stratify=Y)\n",
    "\n",
    "display(Y_temp.value_counts(normalize=True))\n",
    "display(Y_test.value_counts(normalize=True))"
   ]
  },
  {
   "cell_type": "code",
   "execution_count": 12,
   "metadata": {},
   "outputs": [],
   "source": [
    "X_train, X_val, Y_train, Y_val = train_test_split(X_temp,Y_temp,test_size=0.25,random_state=1,stratify=Y_temp)"
   ]
  },
  {
   "cell_type": "code",
   "execution_count": 13,
   "metadata": {},
   "outputs": [
    {
     "name": "stdout",
     "output_type": "stream",
     "text": [
      "The length of Xtrain variables is  13\n",
      "The number of variables of X_val is  13\n",
      "13\n"
     ]
    }
   ],
   "source": [
    "X_train = pd.get_dummies(X_train,drop_first=True)\n",
    "print('The length of Xtrain variables is ',len(X_train.columns))\n",
    "X_val = pd.get_dummies(X_val, drop_first=True)\n",
    "print('The number of variables of X_val is ',len(X_val.columns))\n",
    "X_test = pd.get_dummies(X_test, drop_first=True)\n",
    "print(len(X_test.columns))"
   ]
  },
  {
   "cell_type": "code",
   "execution_count": 19,
   "metadata": {},
   "outputs": [],
   "source": [
    "def get_metrics_score(model,flag=True):\n",
    "    '''\n",
    "    model : classifier to predict values of X\n",
    "\n",
    "    '''\n",
    "    # defining an empty list to store train and test results\n",
    "    score_list=[] \n",
    "    \n",
    "    pred_train = model.predict(X_train)\n",
    "    pred_test = model.predict(X_test)\n",
    "    pred_val = model.predict(X_val)\n",
    "\n",
    "    train_acc = model.score(X_train,Y_train)\n",
    "    test_acc = model.score(X_test,Y_test)\n",
    "    \n",
    "    train_recall = metrics.recall_score(Y_train,pred_train)\n",
    "    test_recall = metrics.recall_score(Y_test,pred_test)\n",
    "    \n",
    "    train_precision = metrics.precision_score(Y_train,pred_train)\n",
    "    test_precision = metrics.precision_score(Y_test,pred_test)\n",
    "    \n",
    "    train_f1 = metrics.f1_score(Y_train,pred_train)\n",
    "    test_f1 = metrics.f1_score(Y_test,pred_test)\n",
    "\n",
    "    score_list.extend((train_acc,test_acc,train_recall,test_recall,train_precision,test_precision,train_f1,test_f1))\n",
    "        \n",
    "    # If the flag is set to True then only the following print statements will be dispayed. The default value is set to True.\n",
    "    if flag == True: \n",
    "        print(\"Accuracy on training set : \",model.score(X_train,Y_train))\n",
    "        print(\"Accuracy on test set : \",model.score(X_test,Y_test))\n",
    "        print(\"Accuracy on val set : \",model.score(X_val,Y_val))\n",
    "        print(\"Recall on training set : \",metrics.recall_score(Y_train,pred_train))\n",
    "        print(\"Recall on test set : \",metrics.recall_score(Y_test,pred_test))\n",
    "        print(\"Recall on val set : \",metrics.recall_score(Y_val,pred_val))\n",
    "        print(\"Precision on training set : \",metrics.precision_score(Y_train,pred_train))\n",
    "        print(\"Precision on test set : \",metrics.precision_score(Y_test,pred_test))\n",
    "        print(\"Precision on val set : \",metrics.precision_score(Y_val,pred_val))\n",
    "        print(\"F1 score on training set : \",metrics.f1_score(Y_train,pred_train))\n",
    "        print(\"F1 score on test set : \",metrics.f1_score(Y_test,pred_test))\n",
    "        print(\"F1 score on val set : \",metrics.f1_score(Y_val,pred_val))\n",
    "    \n",
    "    return score_list # returning the list with train and test scores"
   ]
  },
  {
   "cell_type": "code",
   "execution_count": 15,
   "metadata": {},
   "outputs": [
    {
     "name": "stdout",
     "output_type": "stream",
     "text": [
      "Accuracy on training set :  0.7879924953095685\n",
      "Accuracy on test set :  0.7921348314606742\n",
      "Recall on training set :  0.03508771929824561\n",
      "Recall on test set :  0.05263157894736842\n",
      "Precision on training set :  0.5714285714285714\n",
      "Precision on test set :  0.6666666666666666\n",
      "F1 score on training set :  0.06611570247933884\n",
      "F1 score on test set :  0.09756097560975609\n"
     ]
    }
   ],
   "source": [
    "# defining the model\n",
    "LR_model = LogisticRegression(random_state = 1)\n",
    "\n",
    "# storing accuracy values of model for every fold in \"results\"\n",
    "LR_model.fit(X_train,Y_train)\n",
    "\n",
    "scores = get_metrics_score(LR_model)"
   ]
  },
  {
   "cell_type": "code",
   "execution_count": 16,
   "metadata": {},
   "outputs": [],
   "source": [
    "from imblearn.over_sampling import SMOTE\n",
    "from imblearn.under_sampling import RandomUnderSampler"
   ]
  },
  {
   "cell_type": "code",
   "execution_count": 17,
   "metadata": {},
   "outputs": [
    {
     "name": "stdout",
     "output_type": "stream",
     "text": [
      "Accuracy on training set :  0.6191369606003753\n",
      "Accuracy on test set :  0.5674157303370787\n",
      "Recall on training set :  0.7894736842105263\n",
      "Recall on test set :  0.6578947368421053\n",
      "Precision on training set :  0.3345724907063197\n",
      "Precision on test set :  0.2808988764044944\n",
      "F1 score on training set :  0.4699738903394256\n",
      "F1 score on test set :  0.3937007874015748\n"
     ]
    }
   ],
   "source": [
    "# Fit SMOTE on train data(Synthetic Minority Oversampling Technique)\n",
    "sm = SMOTE(sampling_strategy=1, k_neighbors=5, random_state=1)\n",
    "X_train_over, Y_train_over = sm.fit_resample(X_train, Y_train)\n",
    "\n",
    "SMOTE_LR_model = LogisticRegression(random_state=1)\n",
    "\n",
    "SMOTE_LR_model.fit(X_train_over,Y_train_over)\n",
    "\n",
    "SMOTE_scores = get_metrics_score(SMOTE_LR_model)"
   ]
  },
  {
   "cell_type": "code",
   "execution_count": 23,
   "metadata": {},
   "outputs": [
    {
     "name": "stdout",
     "output_type": "stream",
     "text": [
      "Performance on train set\n",
      "   Accuracy    Recall  Precision        F1\n",
      "0  0.787992  0.035088   0.571429  0.066116\n",
      "Performance on oversampled data\n",
      "   Accuracy   Recall  Precision       F1\n",
      "0  0.673031  0.77327   0.644135  0.70282\n"
     ]
    }
   ],
   "source": [
    "from sklearn.linear_model import LogisticRegression\n",
    "from sklearn.metrics import (\n",
    "f1_score,\n",
    "accuracy_score,\n",
    "recall_score,\n",
    "precision_score,\n",
    "confusion_matrix,\n",
    "roc_auc_score,\n",
    "plot_confusion_matrix,\n",
    ")\n",
    "from imblearn.over_sampling import SMOTE\n",
    "def model_performance_classification_sklearn(model, predictors, target):\n",
    "\n",
    "\n",
    "    # predicting using the independent variables\n",
    "    pred = model.predict(predictors)\n",
    "\n",
    "    acc = accuracy_score(target, pred) # to compute Accuracy\n",
    "    recall = recall_score(target, pred) # to compute Recall\n",
    "    precision = precision_score(target, pred) # to compute Precision\n",
    "    f1 = f1_score(target, pred) # to compute F1-score\n",
    "\n",
    "    # creating a dataframe of metrics\n",
    "    df_perf = pd.DataFrame(\n",
    "    {\"Accuracy\": acc, \"Recall\": recall, \"Precision\": precision, \"F1\": f1,},\n",
    "    index=[0],\n",
    "    )\n",
    "\n",
    "    return df_perf\n",
    "\n",
    "lr1 = LogisticRegression(random_state=1)\n",
    "\n",
    "lr1.fit(X_train, Y_train)\n",
    "\n",
    "print(\"Performance on train set\")\n",
    "print(model_performance_classification_sklearn(lr1, X_train, Y_train))\n",
    "\n",
    " \n",
    "\n",
    "sm = SMOTE(\n",
    "\n",
    "sampling_strategy=1, k_neighbors=5, random_state=1\n",
    "\n",
    ") # Synthetic Minority Over Sampling Technique\n",
    "\n",
    "X_train_over, y_train_over = sm.fit_resample(X_train, Y_train)\n",
    "\n",
    "lr2 = LogisticRegression(random_state=1)\n",
    "\n",
    "lr2.fit(X_train_over, y_train_over)\n",
    "\n",
    "print(\"Performance on oversampled data\")\n",
    "print(model_performance_classification_sklearn(lr2, X_train_over, y_train_over))"
   ]
  },
  {
   "cell_type": "code",
   "execution_count": 18,
   "metadata": {},
   "outputs": [],
   "source": [
    "from sklearn.ensemble import AdaBoostClassifier, GradientBoostingClassifier, BaggingClassifier, RandomForestClassifier"
   ]
  },
  {
   "cell_type": "code",
   "execution_count": 20,
   "metadata": {},
   "outputs": [
    {
     "name": "stdout",
     "output_type": "stream",
     "text": [
      "Accuracy on training set :  0.651031894934334\n",
      "Accuracy on test set :  0.5730337078651685\n",
      "Accuracy on val set :  0.5730337078651685\n",
      "Recall on training set :  0.8070175438596491\n",
      "Recall on test set :  0.6842105263157895\n",
      "Recall on val set :  0.6052631578947368\n",
      "Precision on training set :  0.359375\n",
      "Precision on test set :  0.28888888888888886\n",
      "Precision on val set :  0.27380952380952384\n",
      "F1 score on training set :  0.4972972972972973\n",
      "F1 score on test set :  0.40625\n",
      "F1 score on val set :  0.3770491803278689\n"
     ]
    }
   ],
   "source": [
    "BG_model = BaggingClassifier(random_state=1)\n",
    "\n",
    "BG_model.fit(X_train_over,Y_train_over)\n",
    "\n",
    "scores = get_metrics_score(BG_model)"
   ]
  },
  {
   "cell_type": "code",
   "execution_count": 21,
   "metadata": {},
   "outputs": [
    {
     "data": {
      "text/plain": [
       "0.7741359929834543"
      ]
     },
     "execution_count": 21,
     "metadata": {},
     "output_type": "execute_result"
    }
   ],
   "source": [
    "kfold = KFold(n_splits=5, random_state=1, shuffle = True)\n",
    "# defining the model\n",
    "model = LogisticRegression(random_state = 1)\n",
    "\n",
    "# storing accuracy values of model for every fold in \"results\"\n",
    "results = cross_val_score(model, X_train_over, Y_train_over, cv=kfold, scoring='recall')\n",
    "\n",
    "np.mean(results)"
   ]
  }
 ],
 "metadata": {
  "kernelspec": {
   "display_name": "base",
   "language": "python",
   "name": "python3"
  },
  "language_info": {
   "codemirror_mode": {
    "name": "ipython",
    "version": 3
   },
   "file_extension": ".py",
   "mimetype": "text/x-python",
   "name": "python",
   "nbconvert_exporter": "python",
   "pygments_lexer": "ipython3",
   "version": "3.6.13"
  },
  "orig_nbformat": 4,
  "vscode": {
   "interpreter": {
    "hash": "e2cf162d143ca8ad485e4000bc45ad17eca126afa936660f9596066399a9abfc"
   }
  }
 },
 "nbformat": 4,
 "nbformat_minor": 2
}
