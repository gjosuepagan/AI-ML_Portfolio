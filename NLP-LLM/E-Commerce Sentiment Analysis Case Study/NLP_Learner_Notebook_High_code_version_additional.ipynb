{
  "nbformat": 4,
  "nbformat_minor": 0,
  "metadata": {
    "colab": {
      "provenance": [],
      "collapsed_sections": [
        "ep2NL8Av4Z6Y",
        "0ShYOLU94cHY",
        "nCBgZ7Zb4gqu",
        "lIkgbXqH4lRC",
        "zyyy2l9cfZVv",
        "W8dHZozJfijz",
        "m4tEY-NdgyIr",
        "SM0pqOKvVfL9",
        "GupwOZJTWHqm",
        "yssmjSLIKTJA",
        "_s7_bLvV58mA",
        "vKG6fbJpMowr",
        "Ey0xGvtMKFMQ"
      ]
    },
    "kernelspec": {
      "name": "python3",
      "display_name": "Python 3"
    }
  },
  "cells": [
    {
      "cell_type": "markdown",
      "source": [
        "# Introduction to Computer Vision: Twitter US Airline Sentiment"
      ],
      "metadata": {
        "id": "j-dC38VE4XeB"
      }
    },
    {
      "cell_type": "markdown",
      "source": [
        "## Problem Statement"
      ],
      "metadata": {
        "id": "ep2NL8Av4Z6Y"
      }
    },
    {
      "cell_type": "markdown",
      "source": [
        "### Context"
      ],
      "metadata": {
        "id": "0ShYOLU94cHY"
      }
    },
    {
      "cell_type": "markdown",
      "source": [
        "Product categorization also referred to as product classification, is a field of study within natural language processing (NLP). It is also one of the biggest challenges for e-commerce companies. With the advancement of AI technology, researchers have been applying machine learning to product categorization problems.\n",
        "\n",
        "Product categorization is the placement and organization of products into their respective categories. In that sense, it sounds simple: choose the correct department for a product. However, this process is complicated by the sheer volume of products on many e-commerce platforms. Furthermore, many products could belong to multiple categories.\n",
        "\n",
        "There are many reasons why product categorization is important for e-commerce and marketing. Through the accurate classification of your products, you can increase conversion rates, strengthen your search engine, and improve your site’s Google ranking."
      ],
      "metadata": {
        "id": "qyQUO0Sh4eOY"
      }
    },
    {
      "cell_type": "markdown",
      "source": [
        "### Objective"
      ],
      "metadata": {
        "id": "nCBgZ7Zb4gqu"
      }
    },
    {
      "cell_type": "markdown",
      "source": [
        "The aim of the project is to build a classification model that can accurately classify product descriptions into the predefined categories of \"Household,\" \"Clothing & Accessories,\" \"Electronics,\" and \"Books.\""
      ],
      "metadata": {
        "id": "FRosopIr4jAS"
      }
    },
    {
      "cell_type": "markdown",
      "source": [
        "### Data Dictionary"
      ],
      "metadata": {
        "id": "lIkgbXqH4lRC"
      }
    },
    {
      "cell_type": "markdown",
      "source": [
        "* Label - Class name\n",
        "* Text - Description from the e-commerce website  "
      ],
      "metadata": {
        "id": "eXRUH3IV4nih"
      }
    },
    {
      "cell_type": "markdown",
      "source": [
        "## Importing necessary libraries"
      ],
      "metadata": {
        "id": "zyyy2l9cfZVv"
      }
    },
    {
      "cell_type": "code",
      "metadata": {
        "id": "12uFIt9NAVES"
      },
      "source": [],
      "execution_count": null,
      "outputs": []
    },
    {
      "cell_type": "markdown",
      "source": [
        "## Loading the dataset"
      ],
      "metadata": {
        "id": "W8dHZozJfijz"
      }
    },
    {
      "cell_type": "code",
      "source": [
        "# Mount Google drive to access the dataset only if you are using Google Colab\n"
      ],
      "metadata": {
        "id": "gGqDXrUSfk_B"
      },
      "execution_count": null,
      "outputs": []
    },
    {
      "cell_type": "code",
      "metadata": {
        "id": "Ec3j31-PCYWA"
      },
      "source": [
        "# read the data"
      ],
      "execution_count": null,
      "outputs": []
    },
    {
      "cell_type": "markdown",
      "source": [
        "## Data Overview"
      ],
      "metadata": {
        "id": "m4tEY-NdgyIr"
      }
    },
    {
      "cell_type": "markdown",
      "source": [
        "The initial steps to get an overview of any dataset is to:\n",
        "- Observe the first few rows of the dataset, to check whether the dataset has been loaded properly or not\n",
        "- Get information about the number of rows and columns in the dataset\n",
        "- Find out the data types of the columns to ensure that data is stored in the preferred format and the value of each property is as expected."
      ],
      "metadata": {
        "id": "_IDVHXzVNO5T"
      }
    },
    {
      "cell_type": "code",
      "metadata": {
        "id": "7DysT_j1Cky-"
      },
      "source": [],
      "execution_count": null,
      "outputs": []
    },
    {
      "cell_type": "markdown",
      "source": [
        "## Exploratory Data Analysis"
      ],
      "metadata": {
        "id": "SM0pqOKvVfL9"
      }
    },
    {
      "cell_type": "markdown",
      "source": [
        "- EDA is an important part of any project involving data.\n",
        "- It is important to investigate and understand the data better before building a model with it.\n",
        "- A few questions have been mentioned below which will help you approach the analysis in the right manner and generate insights from the data.\n",
        "- A thorough analysis of the data, in addition to the questions mentioned below, should be done."
      ],
      "metadata": {
        "id": "G2LMPhPUVo16"
      }
    },
    {
      "cell_type": "markdown",
      "source": [
        "**Questions**:\n",
        "\n",
        "- What is the percentage of text for each label\n",
        "- How does a wordcloud appear for  Household category?\n",
        "- How does a wordcloud appear for  Clothing & Accessories category?\n",
        "- How does a wordcloud appear for  Electronics category?\n",
        "- How does a wordcloud appear for  Books category?\n",
        "- What are insights observed from EDA?"
      ],
      "metadata": {
        "id": "B3YsAAVqWPxg"
      }
    },
    {
      "cell_type": "code",
      "metadata": {
        "id": "K7iprVyQXwNU"
      },
      "source": [],
      "execution_count": null,
      "outputs": []
    },
    {
      "cell_type": "markdown",
      "source": [
        "## Data Preparation for Modeling"
      ],
      "metadata": {
        "id": "GupwOZJTWHqm"
      }
    },
    {
      "cell_type": "markdown",
      "source": [
        "-\tHtml tag removal.\n",
        "-\tRemove the numbers.\n",
        "-\tTokenization.\n",
        "-\tRemoval of Special Characters and Punctuations.\n",
        "-\tConversion to lowercase.\n",
        "-\tLemmatize or stemming."
      ],
      "metadata": {
        "id": "IehJ_Uy_9hL7"
      }
    },
    {
      "cell_type": "code",
      "metadata": {
        "id": "2-2sMSyaDSBU"
      },
      "source": [],
      "execution_count": null,
      "outputs": []
    },
    {
      "cell_type": "markdown",
      "metadata": {
        "id": "yssmjSLIKTJA"
      },
      "source": [
        "## Model Building"
      ]
    },
    {
      "cell_type": "markdown",
      "source": [
        "### Using countvectorizer"
      ],
      "metadata": {
        "id": "_s7_bLvV58mA"
      }
    },
    {
      "cell_type": "markdown",
      "source": [
        "- Intialize countvectorizer and use it for vectorization\n",
        "- Store Independent and Dependent variables\n",
        "- Split the data into train and test\n",
        "- Build a Random Forest model on train data\n",
        "- Use Cross validation to validate the score and to find optimal n_estimators\n",
        "- Plot the misclassification error for each of estimators\n",
        "- Test the model on testing data\n",
        "- Plot the Confusion matrix\n",
        "plot word cloud for top 40 important features obtained from Count vectorizer and random forest model\n"
      ],
      "metadata": {
        "id": "xzvsjttyEQqW"
      }
    },
    {
      "cell_type": "code",
      "metadata": {
        "id": "DHGH9AdLyijY"
      },
      "source": [],
      "execution_count": null,
      "outputs": []
    },
    {
      "cell_type": "markdown",
      "metadata": {
        "id": "vKG6fbJpMowr"
      },
      "source": [
        "### Using TF-IDF (Term Frequency- Inverse Document Frequency)"
      ]
    },
    {
      "cell_type": "markdown",
      "source": [
        "- Intialize TFIDF and use it for vectorization\n",
        "- Store Independent and Dependent variables\n",
        "- Split the data into train and test\n",
        "- Build a Random Forest model on train data\n",
        "- Use Cross validation to validate the score and to find optimal n_estimators\n",
        "- Plot the misclassification error for each of estimators\n",
        "- Test the model on testing data\n",
        "- Plot the Confusion matrix\n",
        "plot word cloud for top 40 important features obtained from TFIDF and random forest model\n"
      ],
      "metadata": {
        "id": "2FYTcjZhZKo9"
      }
    },
    {
      "cell_type": "code",
      "metadata": {
        "id": "PztKcFjCJi7y"
      },
      "source": [],
      "execution_count": null,
      "outputs": []
    },
    {
      "cell_type": "markdown",
      "metadata": {
        "id": "Ey0xGvtMKFMQ"
      },
      "source": [
        "## Summary\n",
        "\n",
        "---\n",
        "\n"
      ]
    },
    {
      "cell_type": "code",
      "source": [],
      "metadata": {
        "id": "9SVMha89Zptr"
      },
      "execution_count": null,
      "outputs": []
    },
    {
      "cell_type": "markdown",
      "source": [
        "## Happy Learning!"
      ],
      "metadata": {
        "id": "Z0lxKGC-nL3_"
      }
    }
  ]
}